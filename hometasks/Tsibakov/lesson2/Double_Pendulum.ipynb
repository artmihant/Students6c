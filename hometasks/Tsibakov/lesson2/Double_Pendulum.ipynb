{
 "cells": [
  {
   "cell_type": "markdown",
   "metadata": {},
   "source": [
    "Double mathematical pendulum"
   ]
  },
  {
   "cell_type": "code",
   "execution_count": 1,
   "metadata": {},
   "outputs": [],
   "source": [
    "import numpy as np\n",
    "import matplotlib.pyplot as plt\n",
    "from matplotlib.animation import FuncAnimation, PillowWriter\n",
    "from scipy.integrate import solve_ivp\n",
    "\n",
    "m1 = 1.0 \n",
    "m2 = 1.0  \n",
    "l1 = 1.0  \n",
    "l2 = 1.0  \n",
    "g = 9.81 \n",
    "\n",
    "initial_state = [np.pi / 3, np.pi / 3, 0.0, 0.0]\n",
    "\n",
    "t_span    = (0, 20) \n",
    "num_steps = 200000  \n",
    "t_eval = np.linspace(t_span[0], t_span[1], num_steps)\n",
    "\n",
    "def equations(t, state):\n",
    "    alpha1, alpha2, alpha1_dot, alpha2_dot = state\n",
    "    delta = alpha1 - alpha2\n",
    "\n",
    "    denom1 = (m1 + m2) * l1 - m2 * l1 * np.cos(delta) ** 2\n",
    "    denom2 = l2 * (m1 + m2) - m2 * l2 * np.cos(delta) ** 2\n",
    "\n",
    "    alpha1_ddot = (\n",
    "        -g * (m1 + m2) * np.sin(alpha1)\n",
    "        - m2 * l2 * alpha2_dot ** 2 * np.sin(delta)\n",
    "    ) / denom1\n",
    "\n",
    "    alpha2_ddot = (\n",
    "        l1 * (m1 + m2) * alpha1_dot ** 2 * np.sin(delta)\n",
    "        - g * m2 * np.sin(alpha2)\n",
    "    ) / denom2\n",
    "\n",
    "    return [alpha1_dot, alpha2_dot, alpha1_ddot, alpha2_ddot]\n",
    "\n",
    "solution = solve_ivp(equations, t_span, initial_state, t_eval=t_eval, method='RK45')\n",
    "\n",
    "\n",
    "alpha1_array = solution.y[0]\n",
    "alpha2_array = solution.y[1]"
   ]
  },
  {
   "cell_type": "code",
   "execution_count": 2,
   "metadata": {},
   "outputs": [
    {
     "data": {
      "image/png": "[encoded data removed]",
      "text/plain": [
       "<Figure size 640x480 with 1 Axes>"
      ]
     },
     "metadata": {},
     "output_type": "display_data"
    }
   ],
   "source": [
    "\n",
    "N = 400  # Take every Nth point for smoother animation\n",
    "alpha1_animation = alpha1_array[::N]\n",
    "alpha2_animation = alpha2_array[::N]\n",
    "n_frames = len(alpha1_animation)\n",
    "\n",
    "fig, ax = plt.subplots()\n",
    "ax.set_xlim(-l1 - l2 - 0.1, l1 + l2 + 0.1)\n",
    "ax.set_ylim(-l1 - l2 - 0.1, l1 + l2 + 0.1)\n",
    "ax.grid(color='black', alpha=0.2)\n",
    "\n",
    "line1, = ax.plot([], [], lw=2, color='blue')\n",
    "line2, = ax.plot([], [], lw=2, color='red')\n",
    "bob1, = ax.plot([], [], 'o', color='blue', markersize=10)\n",
    "bob2, = ax.plot([], [], 'o', color='red', markersize=10)\n",
    "\n",
    "def init():\n",
    "    line1.set_data([], [])\n",
    "    line2.set_data([], [])\n",
    "    bob1.set_data([], [])\n",
    "    bob2.set_data([], [])\n",
    "    return line1, line2, bob1, bob2\n",
    "\n",
    "def update(i):\n",
    "    x1 = l1 * np.sin(alpha1_animation[i])\n",
    "    y1 = -l1 * np.cos(alpha1_animation[i])\n",
    "\n",
    "    x2 = x1 + l2 * np.sin(alpha2_animation[i])\n",
    "    y2 = y1 - l2 * np.cos(alpha2_animation[i])\n",
    "\n",
    "    line1.set_data([0, x1], [0, y1])\n",
    "    line2.set_data([x1, x2], [y1, y2])\n",
    "    bob1.set_data(x1, y1)\n",
    "    bob2.set_data(x2, y2)\n",
    "\n",
    "    return line1, line2, bob1, bob2\n",
    "\n",
    "ani = FuncAnimation(fig, update, frames=n_frames, init_func=init, blit=True, interval=20)\n",
    "\n",
    "writer = PillowWriter(fps=24)\n",
    "ani.save(\"double_pendulum.gif\", writer=writer)\n",
    "\n",
    "plt.show()\n"
   ]
  }
 ],
 "metadata": {
  "kernelspec": {
   "display_name": "Python 3 (ipykernel)",
   "language": "python",
   "name": "python3"
  },
  "language_info": {
   "codemirror_mode": {
    "name": "ipython",
    "version": 3
   },
   "file_extension": ".py",
   "mimetype": "text/x-python",
   "name": "python",
   "nbconvert_exporter": "python",
   "pygments_lexer": "ipython3",
   "version": "3.10.12"
  }
 },
 "nbformat": 4,
 "nbformat_minor": 2
}
